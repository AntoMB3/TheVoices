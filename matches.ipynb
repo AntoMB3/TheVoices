{
 "cells": [
  {
   "cell_type": "markdown",
   "metadata": {},
   "source": [
    "# Partidas"
   ]
  },
  {
   "cell_type": "code",
   "execution_count": 1,
   "metadata": {},
   "outputs": [],
   "source": [
    "import cassiopeia as cass\n",
    "import creds\n",
    "cass.set_riot_api_key(creds.riot_API_key)"
   ]
  },
  {
   "cell_type": "code",
   "execution_count": 2,
   "metadata": {},
   "outputs": [
    {
     "data": {
      "text/plain": [
       "<cassiopeia.core.summoner.Summoner at 0x27b7470b7f0>"
      ]
     },
     "execution_count": 2,
     "metadata": {},
     "output_type": "execute_result"
    }
   ],
   "source": [
    "name = \"Antthoss\"\n",
    "user_data = cass.get_summoner(name=name,region = \"LAN\")\n",
    "user_data"
   ]
  },
  {
   "cell_type": "code",
   "execution_count": 3,
   "metadata": {},
   "outputs": [
    {
     "name": "stdout",
     "output_type": "stream",
     "text": [
      "Making call: https://la1.api.riotgames.com/lol/summoner/v4/summoners/by-name/Antthoss\n",
      "Making call: https://americas.api.riotgames.com/lol/match/v5/matches/by-puuid/_ROPUnorv3aVovk2pvxxKOpkipZxHUZJH-yOToXlJLZ7397Ubg0R_NJS3H4rG_RjgpidV1dVBkveOA/ids?beginIndex=0&endIndex=100\n"
     ]
    },
    {
     "data": {
      "text/plain": [
       "[<cassiopeia.core.match.Match at 0x27b74749120>,\n",
       " <cassiopeia.core.match.Match at 0x27b74749180>,\n",
       " <cassiopeia.core.match.Match at 0x27b74749bd0>,\n",
       " <cassiopeia.core.match.Match at 0x27b74749c30>,\n",
       " <cassiopeia.core.match.Match at 0x27b74749d50>,\n",
       " <cassiopeia.core.match.Match at 0x27b74749ed0>,\n",
       " <cassiopeia.core.match.Match at 0x27b7474a080>,\n",
       " <cassiopeia.core.match.Match at 0x27b72da2a10>,\n",
       " <cassiopeia.core.match.Match at 0x27b7474a2f0>,\n",
       " <cassiopeia.core.match.Match at 0x27b7474a410>,\n",
       " <cassiopeia.core.match.Match at 0x27b7474a530>,\n",
       " <cassiopeia.core.match.Match at 0x27b7474a650>,\n",
       " <cassiopeia.core.match.Match at 0x27b7474a770>,\n",
       " <cassiopeia.core.match.Match at 0x27b7474a890>,\n",
       " <cassiopeia.core.match.Match at 0x27b7474a9b0>,\n",
       " <cassiopeia.core.match.Match at 0x27b7474aad0>,\n",
       " <cassiopeia.core.match.Match at 0x27b7474ac20>,\n",
       " <cassiopeia.core.match.Match at 0x27b7474add0>,\n",
       " <cassiopeia.core.match.Match at 0x27b7474af80>,\n",
       " <cassiopeia.core.match.Match at 0x27b7474b130>]"
      ]
     },
     "execution_count": 3,
     "metadata": {},
     "output_type": "execute_result"
    }
   ],
   "source": [
    "list_matches = user_data.match_history\n",
    "list_matches"
   ]
  },
  {
   "cell_type": "code",
   "execution_count": 32,
   "metadata": {},
   "outputs": [
    {
     "data": {
      "text/plain": [
       "<GameType.matched: 'MATCHED_GAME'>"
      ]
     },
     "execution_count": 32,
     "metadata": {},
     "output_type": "execute_result"
    }
   ],
   "source": [
    "partida1 = list_matches[6]\n",
    "partida1.game_type"
   ]
  },
  {
   "cell_type": "code",
   "execution_count": 34,
   "metadata": {},
   "outputs": [],
   "source": [
    "blue = partida1.blue_team"
   ]
  },
  {
   "cell_type": "code",
   "execution_count": 35,
   "metadata": {},
   "outputs": [
    {
     "ename": "AttributeError",
     "evalue": "'TeamData' object has no attribute 'firstBloodKiller'",
     "output_type": "error",
     "traceback": [
      "\u001b[1;31m---------------------------------------------------------------------------\u001b[0m",
      "\u001b[1;31mAttributeError\u001b[0m                            Traceback (most recent call last)",
      "Cell \u001b[1;32mIn [35], line 1\u001b[0m\n\u001b[1;32m----> 1\u001b[0m \u001b[43mblue\u001b[49m\u001b[38;5;241;43m.\u001b[39;49m\u001b[43mfirst_blood\u001b[49m\n",
      "File \u001b[1;32md:\\Proyectos\\TheVoices\\env\\lib\\site-packages\\cassiopeia\\core\\match.py:1570\u001b[0m, in \u001b[0;36mTeam.first_blood\u001b[1;34m(self)\u001b[0m\n\u001b[0;32m   1568\u001b[0m \u001b[39m@property\u001b[39m\n\u001b[0;32m   1569\u001b[0m \u001b[39mdef\u001b[39;00m \u001b[39mfirst_blood\u001b[39m(\u001b[39mself\u001b[39m) \u001b[39m-\u001b[39m\u001b[39m>\u001b[39m \u001b[39mbool\u001b[39m:\n\u001b[1;32m-> 1570\u001b[0m     \u001b[39mreturn\u001b[39;00m \u001b[39mself\u001b[39;49m\u001b[39m.\u001b[39;49m_data[TeamData]\u001b[39m.\u001b[39;49mfirstBloodKiller\n",
      "\u001b[1;31mAttributeError\u001b[0m: 'TeamData' object has no attribute 'firstBloodKiller'"
     ]
    }
   ],
   "source": [
    "blue.first_blood"
   ]
  },
  {
   "cell_type": "code",
   "execution_count": 23,
   "metadata": {},
   "outputs": [
    {
     "data": {
      "text/plain": [
       "['_Team__match',\n",
       " '__call__',\n",
       " '__class__',\n",
       " '__contains__',\n",
       " '__delattr__',\n",
       " '__dict__',\n",
       " '__dir__',\n",
       " '__doc__',\n",
       " '__eq__',\n",
       " '__format__',\n",
       " '__ge__',\n",
       " '__getattribute__',\n",
       " '__gt__',\n",
       " '__hash__',\n",
       " '__init__',\n",
       " '__init_subclass__',\n",
       " '__json__',\n",
       " '__le__',\n",
       " '__lt__',\n",
       " '__module__',\n",
       " '__ne__',\n",
       " '__new__',\n",
       " '__reduce__',\n",
       " '__reduce_ex__',\n",
       " '__repr__',\n",
       " '__setattr__',\n",
       " '__sizeof__',\n",
       " '__str__',\n",
       " '__subclasshook__',\n",
       " '__weakref__',\n",
       " '_data',\n",
       " '_data_types',\n",
       " '_renamed',\n",
       " 'bans',\n",
       " 'baron_kills',\n",
       " 'dominion_score',\n",
       " 'dragon_kills',\n",
       " 'first_baron',\n",
       " 'first_blood',\n",
       " 'first_dragon',\n",
       " 'first_inhibitor',\n",
       " 'first_rift_herald',\n",
       " 'first_tower',\n",
       " 'from_data',\n",
       " 'inhibitor_kills',\n",
       " 'participants',\n",
       " 'rift_herald_kills',\n",
       " 'side',\n",
       " 'to_dict',\n",
       " 'to_json',\n",
       " 'tower_kills',\n",
       " 'vilemaw_kills',\n",
       " 'win']"
      ]
     },
     "execution_count": 23,
     "metadata": {},
     "output_type": "execute_result"
    }
   ],
   "source": [
    "dir(blue)"
   ]
  }
 ],
 "metadata": {
  "kernelspec": {
   "display_name": "Python 3.10.2 ('env': venv)",
   "language": "python",
   "name": "python3"
  },
  "language_info": {
   "codemirror_mode": {
    "name": "ipython",
    "version": 3
   },
   "file_extension": ".py",
   "mimetype": "text/x-python",
   "name": "python",
   "nbconvert_exporter": "python",
   "pygments_lexer": "ipython3",
   "version": "3.10.2"
  },
  "orig_nbformat": 4,
  "vscode": {
   "interpreter": {
    "hash": "6910dfc0445cd62ea80e4a9455129c066bf68bc43d61b55676dc6f512b42aba6"
   }
  }
 },
 "nbformat": 4,
 "nbformat_minor": 2
}
