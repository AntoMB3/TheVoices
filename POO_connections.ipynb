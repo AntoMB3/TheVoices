{
 "cells": [
  {
   "cell_type": "markdown",
   "metadata": {},
   "source": [
    "#### Librerías"
   ]
  },
  {
   "cell_type": "code",
   "execution_count": 62,
   "metadata": {},
   "outputs": [],
   "source": [
    "import riotwatcher as rt\n",
    "import pandas as pd\n",
    "from pandasgui import show\n",
    "import creds"
   ]
  },
  {
   "cell_type": "code",
   "execution_count": 3,
   "metadata": {},
   "outputs": [
    {
     "data": {
      "text/plain": [
       "<riotwatcher.LolWatcher.LolWatcher at 0x19242b4ee50>"
      ]
     },
     "execution_count": 3,
     "metadata": {},
     "output_type": "execute_result"
    }
   ],
   "source": [
    "#Connection\n",
    "connection = rt.LolWatcher(creds.riot_API_key)\n",
    "connection"
   ]
  },
  {
   "cell_type": "code",
   "execution_count": 4,
   "metadata": {},
   "outputs": [],
   "source": [
    "class player:\n",
    "    summoner = \"\"\n",
    "    def __init__(self,name,region):\n",
    "        self.name = name\n",
    "        self.region = region\n",
    "    \n",
    "    def set_id(self,id):\n",
    "        self.id = id\n",
    "    \n",
    "    def get_id(self):\n",
    "        try:\n",
    "            return self.id\n",
    "        except:\n",
    "            print(\"Theres no id for this player\")\n",
    "\n",
    "    def make_connection(self):\n",
    "        con_summoner = connection.summoner\n",
    "        self.summoner = con_summoner.by_name(region=self.region,summoner_name=self.name)\n"
   ]
  },
  {
   "cell_type": "code",
   "execution_count": 5,
   "metadata": {},
   "outputs": [],
   "source": [
    "class matches(player):\n",
    "    def list_matches(self,count):\n",
    "        self.conect_matches = connection.match\n",
    "        matches = self.conect_matches.matchlist_by_puuid(region=self.region,puuid=self.id,count=count)\n",
    "        return matches\n",
    "    \n",
    "    def match_info(self,id):\n",
    "        return self.conect_matches.by_id(region=self.region,match_id=id)"
   ]
  },
  {
   "cell_type": "code",
   "execution_count": 6,
   "metadata": {},
   "outputs": [
    {
     "data": {
      "text/plain": [
       "'_ROPUnorv3aVovk2pvxxKOpkipZxHUZJH-yOToXlJLZ7397Ubg0R_NJS3H4rG_RjgpidV1dVBkveOA'"
      ]
     },
     "execution_count": 6,
     "metadata": {},
     "output_type": "execute_result"
    }
   ],
   "source": [
    "anto = player(\"Antthoss\",\"la1\")\n",
    "anto.make_connection()\n",
    "anto.set_id(anto.summoner['puuid'])\n",
    "anto.get_id()"
   ]
  },
  {
   "cell_type": "code",
   "execution_count": 7,
   "metadata": {},
   "outputs": [
    {
     "data": {
      "text/plain": [
       "['LA1_1317535312',\n",
       " 'LA1_1317260242',\n",
       " 'LA1_1317241200',\n",
       " 'LA1_1316825954',\n",
       " 'LA1_1316809353',\n",
       " 'LA1_1316789697',\n",
       " 'LA1_1316776431',\n",
       " 'LA1_1316542417',\n",
       " 'LA1_1316524357',\n",
       " 'LA1_1316509162']"
      ]
     },
     "execution_count": 7,
     "metadata": {},
     "output_type": "execute_result"
    }
   ],
   "source": [
    "anto = matches(\"Antthoss\",\"la1\")\n",
    "anto.make_connection()\n",
    "anto.set_id(anto.summoner['puuid'])\n",
    "lista = anto.list_matches(10)\n",
    "lista"
   ]
  },
  {
   "cell_type": "code",
   "execution_count": 58,
   "metadata": {},
   "outputs": [],
   "source": [
    "def get_summoner_stats(summoner,match_list):\n",
    "    df = pd.DataFrame()\n",
    "    for match in match_list:\n",
    "        id_match = summoner.match_info(match)['metadata']['participants'].index(summoner.get_id())\n",
    "        stats = summoner.match_info(match)['info']['participants'][id_match]\n",
    "        champion = stats['championName']\n",
    "        kills = stats['kills']\n",
    "        deaths = stats['deaths']\n",
    "        win = stats['win']\n",
    "        data = [champion,kills,deaths,win]\n",
    "        index = [\"Champion\",\"Kills\",\"Deaths\",\"Win\"]\n",
    "        serie = pd.Series(data=data,index=index)\n",
    "        if(df.empty):\n",
    "            df = serie.to_frame()\n",
    "        else:\n",
    "            df = pd.concat([df,serie],axis=1)\n",
    "    df = df.transpose()\n",
    "    return df\n"
   ]
  },
  {
   "cell_type": "code",
   "execution_count": 63,
   "metadata": {},
   "outputs": [
    {
     "name": "stderr",
     "output_type": "stream",
     "text": [
      "PandasGUI INFO — pandasgui.gui — Opening PandasGUI\n"
     ]
    },
    {
     "data": {
      "text/plain": [
       "<pandasgui.gui.PandasGui at 0x19244f97c10>"
      ]
     },
     "execution_count": 63,
     "metadata": {},
     "output_type": "execute_result"
    }
   ],
   "source": [
    "anto = matches(\"Antthoss\",\"la1\")\n",
    "anto.make_connection()\n",
    "anto.set_id(anto.summoner['puuid'])\n",
    "lista = anto.list_matches(100)\n",
    "data = get_summoner_stats(anto,lista)\n"
   ]
  }
 ],
 "metadata": {
  "kernelspec": {
   "display_name": "Python 3.9.6 ('env': venv)",
   "language": "python",
   "name": "python3"
  },
  "language_info": {
   "codemirror_mode": {
    "name": "ipython",
    "version": 3
   },
   "file_extension": ".py",
   "mimetype": "text/x-python",
   "name": "python",
   "nbconvert_exporter": "python",
   "pygments_lexer": "ipython3",
   "version": "3.9.6"
  },
  "orig_nbformat": 4,
  "vscode": {
   "interpreter": {
    "hash": "7eacc1982613b6eca124f52592bb80fed2079d7c03d9d55336301ed22453519f"
   }
  }
 },
 "nbformat": 4,
 "nbformat_minor": 2
}
