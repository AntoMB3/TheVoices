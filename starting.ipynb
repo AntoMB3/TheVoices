{
 "cells": [
  {
   "cell_type": "code",
   "execution_count": 25,
   "metadata": {},
   "outputs": [],
   "source": [
    "import pandas as pd"
   ]
  },
  {
   "cell_type": "markdown",
   "metadata": {},
   "source": [
    "# Importar Libreria para API RIOT"
   ]
  },
  {
   "cell_type": "code",
   "execution_count": 2,
   "metadata": {},
   "outputs": [],
   "source": [
    "from riotwatcher import LolWatcher, ApiError"
   ]
  },
  {
   "cell_type": "code",
   "execution_count": 21,
   "metadata": {},
   "outputs": [
    {
     "data": {
      "text/plain": [
       "{'id': 'lSxjo9PcLdqfX0xNdRtqCqsJs-wluUYc81ZQgZ1zz1LHzEaaQvJ_vDD2zA',\n",
       " 'accountId': 'ISVeKqcd5Vqevl6nzh_jdqnWoTSghH4OVu4z1hwgZz-EVfeQ6E9DH5Dt',\n",
       " 'puuid': '_ROPUnorv3aVovk2pvxxKOpkipZxHUZJH-yOToXlJLZ7397Ubg0R_NJS3H4rG_RjgpidV1dVBkveOA',\n",
       " 'name': 'Antthoss',\n",
       " 'profileIconId': 987,\n",
       " 'revisionDate': 1662237451000,\n",
       " 'summonerLevel': 51}"
      ]
     },
     "execution_count": 21,
     "metadata": {},
     "output_type": "execute_result"
    }
   ],
   "source": [
    "api_key = \"RGAPI-26503beb-dbca-474c-ae97-dd2a9264c249\"\n",
    "watcher = LolWatcher(api_key)\n",
    "my_region = 'la1'\n",
    "me = watcher.summoner.by_name(my_region,\"Antthoss\")\n",
    "\n",
    "my_id = me['id']\n",
    "me"
   ]
  },
  {
   "cell_type": "code",
   "execution_count": 22,
   "metadata": {},
   "outputs": [
    {
     "data": {
      "text/plain": [
       "'lSxjo9PcLdqfX0xNdRtqCqsJs-wluUYc81ZQgZ1zz1LHzEaaQvJ_vDD2zA'"
      ]
     },
     "execution_count": 22,
     "metadata": {},
     "output_type": "execute_result"
    }
   ],
   "source": [
    "my_id"
   ]
  },
  {
   "cell_type": "markdown",
   "metadata": {},
   "source": [
    "### *Ranked Stats*"
   ]
  },
  {
   "cell_type": "code",
   "execution_count": 23,
   "metadata": {},
   "outputs": [
    {
     "data": {
      "text/plain": [
       "[{'leagueId': 'c15d3afa-9fd8-41cb-aa90-818ab2734ab1',\n",
       "  'queueType': 'RANKED_FLEX_SR',\n",
       "  'tier': 'SILVER',\n",
       "  'rank': 'III',\n",
       "  'summonerId': 'lSxjo9PcLdqfX0xNdRtqCqsJs-wluUYc81ZQgZ1zz1LHzEaaQvJ_vDD2zA',\n",
       "  'summonerName': 'Antthoss',\n",
       "  'leaguePoints': 75,\n",
       "  'wins': 59,\n",
       "  'losses': 72,\n",
       "  'veteran': False,\n",
       "  'inactive': False,\n",
       "  'freshBlood': False,\n",
       "  'hotStreak': False},\n",
       " {'leagueId': '75aea2c0-1c78-4c8c-9d07-5b50032babbf',\n",
       "  'queueType': 'RANKED_SOLO_5x5',\n",
       "  'tier': 'SILVER',\n",
       "  'rank': 'III',\n",
       "  'summonerId': 'lSxjo9PcLdqfX0xNdRtqCqsJs-wluUYc81ZQgZ1zz1LHzEaaQvJ_vDD2zA',\n",
       "  'summonerName': 'Antthoss',\n",
       "  'leaguePoints': 23,\n",
       "  'wins': 32,\n",
       "  'losses': 37,\n",
       "  'veteran': False,\n",
       "  'inactive': False,\n",
       "  'freshBlood': False,\n",
       "  'hotStreak': False}]"
      ]
     },
     "execution_count": 23,
     "metadata": {},
     "output_type": "execute_result"
    }
   ],
   "source": [
    "my_ranked_stats = watcher.league.by_summoner(my_region,my_id)\n",
    "my_ranked_stats"
   ]
  },
  {
   "cell_type": "code",
   "execution_count": 40,
   "metadata": {},
   "outputs": [
    {
     "data": {
      "text/html": [
       "<div>\n",
       "<style scoped>\n",
       "    .dataframe tbody tr th:only-of-type {\n",
       "        vertical-align: middle;\n",
       "    }\n",
       "\n",
       "    .dataframe tbody tr th {\n",
       "        vertical-align: top;\n",
       "    }\n",
       "\n",
       "    .dataframe thead th {\n",
       "        text-align: right;\n",
       "    }\n",
       "</style>\n",
       "<table border=\"1\" class=\"dataframe\">\n",
       "  <thead>\n",
       "    <tr style=\"text-align: right;\">\n",
       "      <th></th>\n",
       "      <th>leagueId</th>\n",
       "      <th>queueType</th>\n",
       "      <th>tier</th>\n",
       "      <th>rank</th>\n",
       "      <th>summonerId</th>\n",
       "      <th>summonerName</th>\n",
       "      <th>leaguePoints</th>\n",
       "      <th>wins</th>\n",
       "      <th>losses</th>\n",
       "      <th>veteran</th>\n",
       "      <th>inactive</th>\n",
       "      <th>freshBlood</th>\n",
       "      <th>hotStreak</th>\n",
       "    </tr>\n",
       "  </thead>\n",
       "  <tbody>\n",
       "    <tr>\n",
       "      <th>0</th>\n",
       "      <td>c15d3afa-9fd8-41cb-aa90-818ab2734ab1</td>\n",
       "      <td>RANKED_FLEX_SR</td>\n",
       "      <td>SILVER</td>\n",
       "      <td>III</td>\n",
       "      <td>lSxjo9PcLdqfX0xNdRtqCqsJs-wluUYc81ZQgZ1zz1LHzE...</td>\n",
       "      <td>Antthoss</td>\n",
       "      <td>75</td>\n",
       "      <td>59</td>\n",
       "      <td>72</td>\n",
       "      <td>False</td>\n",
       "      <td>False</td>\n",
       "      <td>False</td>\n",
       "      <td>False</td>\n",
       "    </tr>\n",
       "  </tbody>\n",
       "</table>\n",
       "</div>"
      ],
      "text/plain": [
       "                               leagueId       queueType    tier rank  \\\n",
       "0  c15d3afa-9fd8-41cb-aa90-818ab2734ab1  RANKED_FLEX_SR  SILVER  III   \n",
       "\n",
       "                                          summonerId summonerName  \\\n",
       "0  lSxjo9PcLdqfX0xNdRtqCqsJs-wluUYc81ZQgZ1zz1LHzE...     Antthoss   \n",
       "\n",
       "   leaguePoints  wins  losses  veteran  inactive  freshBlood  hotStreak  \n",
       "0            75    59      72    False     False       False      False  "
      ]
     },
     "execution_count": 40,
     "metadata": {},
     "output_type": "execute_result"
    }
   ],
   "source": [
    "dfAntthoss = pd.DataFrame(my_ranked_stats[0],index=[0])\n",
    "dfAntthoss"
   ]
  },
  {
   "cell_type": "code",
   "execution_count": 33,
   "metadata": {},
   "outputs": [
    {
     "data": {
      "text/plain": [
       "dict"
      ]
     },
     "execution_count": 33,
     "metadata": {},
     "output_type": "execute_result"
    }
   ],
   "source": []
  }
 ],
 "metadata": {
  "kernelspec": {
   "display_name": "Python 3.10.2 ('env': venv)",
   "language": "python",
   "name": "python3"
  },
  "language_info": {
   "codemirror_mode": {
    "name": "ipython",
    "version": 3
   },
   "file_extension": ".py",
   "mimetype": "text/x-python",
   "name": "python",
   "nbconvert_exporter": "python",
   "pygments_lexer": "ipython3",
   "version": "3.10.2"
  },
  "orig_nbformat": 4,
  "vscode": {
   "interpreter": {
    "hash": "6910dfc0445cd62ea80e4a9455129c066bf68bc43d61b55676dc6f512b42aba6"
   }
  }
 },
 "nbformat": 4,
 "nbformat_minor": 2
}
